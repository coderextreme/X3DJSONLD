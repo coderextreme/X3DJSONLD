{
 "cells": [
  {
   "cell_type": "code",
   "execution_count": null,
   "metadata": {
    "scrolled": true
   },
   "outputs": [],
   "source": [
    "####################################################################################################\n",
    "#\n",
    "# Now available: developmental python x3d.py package on PyPi for import.\n",
    "#   This approach simplifies Python X3D deployment and use.\n",
    "#   https://pypi.org/project/x3d\n",
    "#\n",
    "# Installation:\n",
    "#       pip install x3d\n",
    "# or\n",
    "#       python -m pip install x3d\n",
    "#\n",
    "# Developer options for loading x3d package:\n",
    "#\n",
    "#    from x3d import *  # preferred approach, terser source that avoids x3d.* class prefixes\n",
    "#\n",
    "# or\n",
    "#    import x3d         # traditional way to subclass x3d package, all classes require x3d.* prefix,\n",
    "#                       # but python source is very verbose, for example x3d.Material x3d.Shape etc.\n",
    "#                       # X3dToPython.xslt stylesheet insertPackagePrefix=true supports this option.\n",
    "#\n",
    "####################################################################################################\n",
    "#print(\"'''\")   # comment out output created by importing x3d (see below)\n",
    "from x3d import *\n",
    "# print(\"'''\")   # comment out output created by importing x3d (see below)\n",
    "\n",
    "#  comment preceding root node \n",
    "newModel=X3D(profile='Immersive',version='3.3',\n",
    "  head=head(\n",
    "    children=[\n",
    "    meta(content='HelloWorld.x3d',name='title'),\n",
    "    meta(content='Simple X3D scene example: Hello World!',name='description'),\n",
    "    meta(content='30 October 2000',name='created'),\n",
    "    meta(content='31 October 2019',name='modified'),\n",
    "    meta(content='Don Brutzman',name='creator'),\n",
    "    meta(content='HelloWorld.tall.png',name='Image'),\n",
    "    meta(content='http://en.wikipedia.org/wiki/Hello_world',name='reference'),\n",
    "    meta(content='https://en.wikipedia.org/wiki/Hello#.22Hello.2C_World.22_computer_program',name='reference'),\n",
    "    meta(content='https://en.wikipedia.org/wiki/\"Hello,_World!\"_program',name='reference'),\n",
    "    meta(content='http://en.wikibooks.org/w/index.php?title=Computer_Programming/Hello_world',name='reference'),\n",
    "    meta(content='http://www.HelloWorldExample.net',name='reference'),\n",
    "    meta(content='http://www.web3D.org',name='reference'),\n",
    "    meta(content='http://www.web3d.org/realtime-3d/news/internationalization-x3d',name='reference'),\n",
    "    meta(content='http://www.web3d.org/x3d/content/examples/HelloWorld.x3d',name='reference'),\n",
    "    meta(content='http://X3dGraphics.com/examples/X3dForAdvancedModeling/HelloWorldScenes',name='reference'),\n",
    "    meta(content='http://X3dGraphics.com/examples/X3dForWebAuthors/Chapter01TechnicalOverview/HelloWorld.x3d',name='identifier'),\n",
    "    meta(content='http://www.web3d.org/x3d/content/examples/license.html',name='license'),\n",
    "    meta(content='X3D-Edit 3.3, https://savage.nps.edu/X3D-Edit',name='generator'),\n",
    "    #  Alternate encodings: VRML97, X3D ClassicVRML Encoding, X3D Compressed Binary Encoding (CBE), X3DOM, JSON \n",
    "    meta(content='HelloWorld.wrl',name='reference'),\n",
    "    meta(content='HelloWorld.x3dv',name='reference'),\n",
    "    meta(content='HelloWorld.x3db',name='reference'),\n",
    "    meta(content='HelloWorld.xhtml',name='reference'),\n",
    "    meta(content='HelloWorld.json',name='reference')]),\n",
    "  Scene=Scene(\n",
    "    #  Example scene to illustrate X3D nodes and fields (XML elements and attributes) \n",
    "    children=[\n",
    "    WorldInfo(title='Hello World!'),\n",
    "    WorldInfo(title=\"Hello ' apostrophe 1\"),\n",
    "    WorldInfo(title=\"Hello ' apostrophe 2\"),\n",
    "    WorldInfo(title='Hello \" quotation mark 3'),\n",
    "    WorldInfo(title='Hello \" quotation mark 4'),\n",
    "    MetadataSet(name=\"items'\",\n",
    "      value=[\n",
    "      MetadataInteger(name='one',value=[1]),\n",
    "      MetadataInteger(name='two',value=[2])]),\n",
    "    Group(\n",
    "      children=[\n",
    "      Viewpoint(DEF='ViewUpClose',centerOfRotation=(0,-1,0),description='Hello world!',position=(0,-1,7)),\n",
    "      #  insert commas to test removal when converted to ttl \n",
    "      Transform(DEF='TestWhitespaceCommas',rotation=(0,1,0,3),\n",
    "        children=[\n",
    "        Shape(\n",
    "          geometry=Sphere(),\n",
    "          appearance=Appearance(\n",
    "            material=Material(DEF='MaterialLightBlue',diffuseColor=(0.1,0.5,1)),\n",
    "            texture=ImageTexture(DEF='ImageCloudlessEarth',url=[\"earth-topo.png\", \"earth-topo.jpg\", \"https://www.web3d.org/x3d/content/examples/Basic/earth-topo.png\",\"http://www.web3d.org/x3d/content/examples/Basic/earth-topo.jpg\",\"http://www.web3d.org/x3d/content/examples/Basic/earth-topo-small.gif\"])))]),\n",
    "      Transform(translation=(0,-2,0),\n",
    "        children=[\n",
    "        Shape(\n",
    "          geometry=Text(DEF='TextMessage',string=[\"Hello\",\"world!\"],\n",
    "            fontStyle=FontStyle(justify=[\"MIDDLE\",\"MIDDLE\"])),\n",
    "          appearance=Appearance(\n",
    "            material=Material(USE='MaterialLightBlue')))])])])\n",
    ") # X3D model complete\n",
    "\n",
    "####################################################################################################\n",
    "# Self-test diagnostics\n",
    "####################################################################################################\n"
   ]
  },
  {
   "cell_type": "code",
   "execution_count": null,
   "metadata": {},
   "outputs": [],
   "source": [
    "from IPython.display import display, HTML"
   ]
  },
  {
   "cell_type": "code",
   "execution_count": null,
   "metadata": {},
   "outputs": [],
   "source": [
    "%%html\n",
    "<script type='text/javascript' charset=\"UTF-8\" src='https://x3dom.org/release/x3dom-full.debug.js'> </script> \n",
    "<link rel='stylesheet' type='text/css' href='https://x3dom.org/release/x3dom.css'></link> \n",
    "<style>\n",
    "\n",
    " x3d {\n",
    "     width:720px;\n",
    "     height:720px;\n",
    "     border:2px solid black;\n",
    "}\n",
    "</style>"
   ]
  },
  {
   "cell_type": "markdown",
   "metadata": {},
   "source": [
    "In following construction of the x3dnode, only the Scene statement of the newModel X3D document is inserted into the X3D DOM element that will be interpreted by the x3dom code."
   ]
  },
  {
   "cell_type": "code",
   "execution_count": null,
   "metadata": {},
   "outputs": [],
   "source": [
    "x3dnode = \"\"\"\\\n",
    "<x3d>\n",
    "%s\n",
    "</x3d>\n",
    "<script>\n",
    "window.x3dom.reload()\n",
    "</script>\n",
    "\"\"\" % newModel.Scene.HTML5()\n"
   ]
  },
  {
   "cell_type": "code",
   "execution_count": null,
   "metadata": {},
   "outputs": [],
   "source": [
    "HTML(x3dnode)"
   ]
  }
 ],
 "metadata": {
  "kernelspec": {
   "display_name": "Python 3 (ipykernel)",
   "language": "python",
   "name": "python3"
  },
  "language_info": {
   "codemirror_mode": {
    "name": "ipython",
    "version": 3
   },
   "file_extension": ".py",
   "mimetype": "text/x-python",
   "name": "python",
   "nbconvert_exporter": "python",
   "pygments_lexer": "ipython3",
   "version": "3.7.6"
  }
 },
 "nbformat": 4,
 "nbformat_minor": 1
}
